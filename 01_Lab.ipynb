{
 "cells": [
  {
   "cell_type": "markdown",
   "id": "abd39124",
   "metadata": {},
   "source": [
    "Question 1 : (Euclidean Theorem)"
   ]
  },
  {
   "cell_type": "code",
   "execution_count": 7,
   "id": "ccdeb9d9",
   "metadata": {},
   "outputs": [],
   "source": [
    "def Euclidean(a,b):\n",
    "    if (b==0):\n",
    "        return a; \n",
    "    else:\n",
    "        return Euclidean(b,(a % b))\n",
    "    "
   ]
  },
  {
   "cell_type": "code",
   "execution_count": 11,
   "id": "2cd40f09",
   "metadata": {},
   "outputs": [
    {
     "name": "stdout",
     "output_type": "stream",
     "text": [
      "4\n"
     ]
    }
   ],
   "source": [
    "a=int(input(\"Enter First Number\"))\n",
    "b=int(input(\"Enter Second Number\"))\n",
    "\n",
    "if(a<b):\n",
    "    a,b=b,a\n",
    "    \n",
    "print(Euclidean(a,b))"
   ]
  },
  {
   "cell_type": "markdown",
   "id": "91e3775d",
   "metadata": {},
   "source": [
    "Question 2 : Extended Euclidean Theorem"
   ]
  },
  {
   "cell_type": "code",
   "execution_count": 15,
   "id": "00d61f67",
   "metadata": {},
   "outputs": [
    {
     "name": "stdout",
     "output_type": "stream",
     "text": [
      "gcd is :  1\n",
      "s is :  3\n",
      "t is :  -7\n"
     ]
    }
   ],
   "source": [
    "a=int(input(\"Enter First Number\"))\n",
    "b=int(input(\"Enter Second Number\"))\n",
    "\n",
    "r1 = a\n",
    "r2 = b\n",
    "s1 = 1\n",
    "s2 = 0\n",
    "t1 = 0\n",
    "t2 = 1\n",
    "\n",
    "while(r2>0):\n",
    "    q = int(r1/r2)\n",
    "\n",
    "    r = r1-q*r2\n",
    "    r1 = r2\n",
    "    r2 = r\n",
    "\n",
    "    s = s1-q*s2\n",
    "    s1 = s2\n",
    "    s2 = s\n",
    "\n",
    "    t = t1-q*t2\n",
    "    t1 = t2\n",
    "    t2 = t\n",
    "\n",
    "gcd = r1\n",
    "s = s1\n",
    "t = t1\n",
    "\n",
    "print(\"gcd is : \",gcd)\n",
    "print(\"s is : \",s)\n",
    "print(\"t is : \",t)\n",
    "\n",
    "    "
   ]
  },
  {
   "cell_type": "markdown",
   "id": "fb73b6dd",
   "metadata": {},
   "source": [
    "Question 3 : Using Extended Euclidean Theorem find inverse of a number in GF(p)"
   ]
  },
  {
   "cell_type": "code",
   "execution_count": null,
   "id": "c6798bba",
   "metadata": {},
   "outputs": [
    {
     "name": "stdout",
     "output_type": "stream",
     "text": [
      "gcd is :  1\n",
      "inverse is :  87\n"
     ]
    }
   ],
   "source": [
    "a=int(input(\"Enter N\"))\n",
    "b=int(input(\"Enter number to find inverse in GF(N)\"))\n",
    "\n",
    "r1 = a\n",
    "r2 = b\n",
    "\n",
    "t1 = 0\n",
    "t2 = 1\n",
    "\n",
    "while(r2>0):\n",
    "    q = int(r1/r2)\n",
    "\n",
    "    r = r1-q*r2\n",
    "    r1 = r2\n",
    "    r2 = r\n",
    "\n",
    " \n",
    "\n",
    "    t = t1-q*t2\n",
    "    t1 = t2\n",
    "    t2 = t\n",
    "\n",
    "gcd = r1\n",
    "\n",
    "t = t1\n",
    "\n",
    "print(\"gcd is : \",gcd)\n",
    "\n",
    "print(\"inverse is : \",t%a)\n",
    "\n",
    "    "
   ]
  }
 ],
 "metadata": {
  "kernelspec": {
   "display_name": "Python 3",
   "language": "python",
   "name": "python3"
  },
  "language_info": {
   "codemirror_mode": {
    "name": "ipython",
    "version": 3
   },
   "file_extension": ".py",
   "mimetype": "text/x-python",
   "name": "python",
   "nbconvert_exporter": "python",
   "pygments_lexer": "ipython3",
   "version": "3.12.0"
  }
 },
 "nbformat": 4,
 "nbformat_minor": 5
}
